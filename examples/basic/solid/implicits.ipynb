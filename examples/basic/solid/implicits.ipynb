{
 "cells": [
  {
   "cell_type": "markdown",
   "metadata": {},
   "source": [
    "# Implicit geometries\n",
    "[![Google Collab Book](https://colab.research.google.com/assets/colab-badge.svg)](https://colab.research.google.com/github/meyer-nils/torch-fem/blob/main/examples/basic/solid/implicits.ipynb)"
   ]
  },
  {
   "cell_type": "code",
   "execution_count": 1,
   "metadata": {},
   "outputs": [],
   "source": [
    "import torch\n",
    "from torchfem import Solid\n",
    "from torchfem.materials import IsotropicElasticity3D\n",
    "from torchfem.mesh import cube_hexa\n",
    "from torchfem.sdfs import Sphere, Cylinder, Box, Gyroid, Shell\n",
    "from torchfem.io import export_mesh\n",
    "\n",
    "import pyvista\n",
    "\n",
    "pyvista.set_plot_theme(\"document\")\n",
    "\n",
    "torch.set_default_dtype(torch.float64)\n",
    "\n",
    "# Elastic material model\n",
    "material = IsotropicElasticity3D(E=1000.0, nu=0.3)"
   ]
  },
  {
   "cell_type": "code",
   "execution_count": 2,
   "metadata": {},
   "outputs": [],
   "source": [
    "# Create a mesh\n",
    "N = 100\n",
    "nodes, elements = cube_hexa(N, N, N)\n",
    "\n",
    "# Create a solid object\n",
    "csg_sample = Solid(nodes, elements, material)"
   ]
  },
  {
   "cell_type": "markdown",
   "metadata": {},
   "source": [
    "## Constructive solid geometry example\n",
    "Here, we build the Constructive Solid Geometry example from [Wikipedia](https://en.wikipedia.org/wiki/Constructive_solid_geometry).\n",
    "\n",
    "![Constructive Solid Geometry Example](https://upload.wikimedia.org/wikipedia/commons/8/8b/Csg_tree.png)\n",
    "\n",
    "\n",
    "We can easily combine different objects with pythonic operators:\n",
    "- Union: `|`\n",
    "- Intersection: `&`\n",
    "- Difference: `-`\n"
   ]
  },
  {
   "cell_type": "code",
   "execution_count": 3,
   "metadata": {},
   "outputs": [
    {
     "data": {
      "application/vnd.jupyter.widget-view+json": {
       "model_id": "7ac63f4914094d5cb9190b582c52ff57",
       "version_major": 2,
       "version_minor": 0
      },
      "text/plain": [
       "EmbeddableWidget(value='<iframe srcdoc=\"<!DOCTYPE html>\\n<html>\\n  <head>\\n    <meta http-equiv=&quot;Content-…"
      ]
     },
     "metadata": {},
     "output_type": "display_data"
    }
   ],
   "source": [
    "S1 = Sphere(torch.tensor([0.5, 0.5, 0.5]), 0.6)\n",
    "B1 = Box(torch.tensor([0.5, 0.5, 0.5]), torch.ones(3))\n",
    "C1 = Cylinder(torch.tensor([0.5, 0.5, 0.5]), 0.2)\n",
    "C2 = Cylinder(torch.tensor([0.5, 0.5, 0.5]), 0.2).rotate(\n",
    "    torch.tensor([0.0, 0.0, 1.0]), torch.tensor(torch.pi / 2.0)\n",
    ")\n",
    "C3 = Cylinder(torch.tensor([0.5, 0.5, 0.5]), 0.2).rotate(\n",
    "    torch.tensor([1.0, 0.0, 0.0]), torch.tensor(torch.pi / 2.0)\n",
    ")\n",
    "\n",
    "# Combine with boolean operations\n",
    "body = (S1 & B1) - (C1 | C2 | C3)\n",
    "\n",
    "csg_sample.plot(\n",
    "    node_property={\"SDF\": body.sdf(nodes)}, contour=(\"SDF\", [0.0]), color=\"skyblue\"\n",
    ")"
   ]
  },
  {
   "cell_type": "markdown",
   "metadata": {},
   "source": [
    "## Box with infill "
   ]
  },
  {
   "cell_type": "code",
   "execution_count": 4,
   "metadata": {},
   "outputs": [
    {
     "data": {
      "application/vnd.jupyter.widget-view+json": {
       "model_id": "d58b9e44e93a44cd8eddba65b6b33eef",
       "version_major": 2,
       "version_minor": 0
      },
      "text/plain": [
       "EmbeddableWidget(value='<iframe srcdoc=\"<!DOCTYPE html>\\n<html>\\n  <head>\\n    <meta http-equiv=&quot;Content-…"
      ]
     },
     "metadata": {},
     "output_type": "display_data"
    }
   ],
   "source": [
    "# Create a mesh\n",
    "nodes, elements = cube_hexa(200, 50, 50, 100.0, 25.0, 25.0)\n",
    "\n",
    "# Create a solid object\n",
    "model = Solid(nodes, elements, material)\n",
    "\n",
    "# Build a gyroid and a box\n",
    "center = torch.tensor([50.0, 25.0, 25.0])\n",
    "G = Gyroid(center, 3 * torch.ones(3))\n",
    "B = Box(center, torch.tensor([95.0, 45.0, 45.0]))\n",
    "BS = Shell(B, 1.0)\n",
    "GS = Shell(G, 1.0, lambda pos: (pos[:, 0] / 100.0) ** 2 + 0.5)\n",
    "body = (GS & B) | BS\n",
    "\n",
    "model.plot(\n",
    "    node_property={\"SDF\": body.sdf(nodes)}, contour=(\"SDF\", [0.0]), color=\"skyblue\"\n",
    ")"
   ]
  },
  {
   "cell_type": "code",
   "execution_count": 5,
   "metadata": {},
   "outputs": [],
   "source": [
    "# Set constraints\n",
    "model.constraints[nodes[:, 0] == 0.0, 0] = True\n",
    "model.constraints[nodes[:, 1] == 25.0, 1] = True\n",
    "model.constraints[nodes[:, 2] == 25.0, 2] = True\n",
    "model.constraints[nodes[:, 0] == 100.0, 0] = True\n",
    "model.displacements[nodes[:, 0] == 100.0, 0] = 1.0\n",
    "\n",
    "# Create nodal density field\n",
    "mask = body.sdf(nodes) > 0.0\n",
    "rho_nodes = torch.ones_like(body.sdf(nodes))\n",
    "rho_nodes[mask] = 0.01\n",
    "\n",
    "# Integrate element density field\n",
    "rho_elems = model.integrate_field(rho_nodes)\n",
    "vol_elems = model.integrate_field(torch.ones_like(rho_nodes))\n",
    "rho_elems /= vol_elems"
   ]
  },
  {
   "cell_type": "code",
   "execution_count": 6,
   "metadata": {},
   "outputs": [],
   "source": [
    "# Reduce stiffness with density field\n",
    "model.material.C *= rho_elems[:, None, None]\n",
    "\n",
    "# Solve\n",
    "u, f, σ, ε, α = model.solve()"
   ]
  },
  {
   "cell_type": "code",
   "execution_count": 7,
   "metadata": {},
   "outputs": [
    {
     "data": {
      "application/vnd.jupyter.widget-view+json": {
       "model_id": "2a2f217d5a97433a933d1ab5cd67e3bd",
       "version_major": 2,
       "version_minor": 0
      },
      "text/plain": [
       "EmbeddableWidget(value='<iframe srcdoc=\"<!DOCTYPE html>\\n<html>\\n  <head>\\n    <meta http-equiv=&quot;Content-…"
      ]
     },
     "metadata": {},
     "output_type": "display_data"
    }
   ],
   "source": [
    "model.plot(\n",
    "    node_property={\"SDF\": body.sdf(nodes), \"Disp\": u},\n",
    "    element_property={\"Stress\": σ, \"Strain\": ε},\n",
    "    contour=(\"SDF\", [0.0]),\n",
    "    scalars=\"Stress\",\n",
    "    component=0,\n",
    "    cmap=\"inferno\",\n",
    "    clim=[-5, 15],\n",
    ")"
   ]
  },
  {
   "cell_type": "code",
   "execution_count": 8,
   "metadata": {},
   "outputs": [],
   "source": [
    "export_mesh(\n",
    "    model,\n",
    "    \"model.vtu\",\n",
    "    nodal_data={\"SDF\": body.sdf(nodes), \"Disp\": u},\n",
    "    elem_data={\"Stress\": [σ], \"Strain\": [ε], \"Density\": [rho_elems]},\n",
    ")"
   ]
  }
 ],
 "metadata": {
  "kernelspec": {
   "display_name": "torchfem",
   "language": "python",
   "name": "python3"
  },
  "language_info": {
   "codemirror_mode": {
    "name": "ipython",
    "version": 3
   },
   "file_extension": ".py",
   "mimetype": "text/x-python",
   "name": "python",
   "nbconvert_exporter": "python",
   "pygments_lexer": "ipython3",
   "version": "3.10.13"
  }
 },
 "nbformat": 4,
 "nbformat_minor": 2
}
