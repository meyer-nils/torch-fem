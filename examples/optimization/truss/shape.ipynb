{
 "cells": [
  {
   "attachments": {},
   "cell_type": "markdown",
   "metadata": {},
   "source": [
    "# Shape optimization of trusses\n",
    "\n",
    "Shape optimization means that given a fixed topology of a truss, we want optimize its stiffness by modifying some node positions.\n"
   ]
  },
  {
   "cell_type": "code",
   "execution_count": 1,
   "metadata": {},
   "outputs": [],
   "source": [
    "from math import sqrt\n",
    "\n",
    "import torch\n",
    "\n",
    "from torchfem import Truss\n",
    "from torchfem.materials import IsotropicElasticity1D\n",
    "\n",
    "torch.set_default_dtype(torch.double)"
   ]
  },
  {
   "cell_type": "code",
   "execution_count": 2,
   "metadata": {},
   "outputs": [],
   "source": [
    "# Create material\n",
    "material = IsotropicElasticity1D(500.0)"
   ]
  },
  {
   "cell_type": "markdown",
   "metadata": {},
   "source": [
    "## Truss definition"
   ]
  },
  {
   "cell_type": "code",
   "execution_count": 3,
   "metadata": {},
   "outputs": [
    {
     "data": {
      "image/png": "[encoded data removed]",
      "text/plain": [
       "<Figure size 640x480 with 1 Axes>"
      ]
     },
     "metadata": {},
     "output_type": "display_data"
    }
   ],
   "source": [
    "# Dimensions\n",
    "A = 17\n",
    "B = 2\n",
    "\n",
    "# Nodes\n",
    "n1 = torch.linspace(0.0, 5.0, A)\n",
    "n2 = torch.linspace(0.0, 0.5, B)\n",
    "n1, n2 = torch.stack(torch.meshgrid(n1, n2, indexing=\"xy\"))\n",
    "nodes = torch.stack([n1.ravel(), n2.ravel()], dim=1)\n",
    "\n",
    "# Elements\n",
    "connections = []\n",
    "for i in range(A - 1):\n",
    "    for j in range(B):\n",
    "        connections.append([i + j * A, i + 1 + j * A])\n",
    "for i in range(A):\n",
    "    for j in range(B - 1):\n",
    "        connections.append([i + j * A, i + A + j * A])\n",
    "for i in range(A - 1):\n",
    "    for j in range(B - 1):\n",
    "        if i >= (A - 1) / 2:\n",
    "            connections.append([i + j * A, i + 1 + A + j * A])\n",
    "        else:\n",
    "            connections.append([i + 1 + j * A, i + A + j * A])\n",
    "elements = torch.tensor(connections)\n",
    "\n",
    "# Truss\n",
    "bridge = Truss(nodes.clone(), elements, material)\n",
    "\n",
    "# Forces at bottom edge\n",
    "bridge.forces[1 : A - 1, 1] = -0.1\n",
    "\n",
    "# Constraints by the supports\n",
    "bridge.constraints[0, 0] = True\n",
    "bridge.constraints[0, 1] = True\n",
    "bridge.constraints[A - 1, 1] = True\n",
    "\n",
    "# Plot\n",
    "bridge.plot()"
   ]
  },
  {
   "cell_type": "markdown",
   "metadata": {},
   "source": [
    "## Helper functions"
   ]
  },
  {
   "cell_type": "code",
   "execution_count": 4,
   "metadata": {},
   "outputs": [],
   "source": [
    "def compute_lengths(truss):\n",
    "    start_nodes = truss.nodes[truss.elements[:, 0]]\n",
    "    end_nodes = truss.nodes[truss.elements[:, 1]]\n",
    "    dx = end_nodes - start_nodes\n",
    "    return torch.linalg.norm(dx, dim=-1)\n",
    "\n",
    "\n",
    "def box_constrained_decent(\n",
    "    func, x_init, x_lower=None, x_upper=None, eta=0.01, max_iter=100, tol=1e-10\n",
    "):\n",
    "    x = x_init.clone().requires_grad_()\n",
    "    for _ in range(max_iter):\n",
    "        x_old = x.clone()\n",
    "        grad = torch.autograd.grad(func(x).sum(), x)[0]\n",
    "        x = x - eta * grad\n",
    "        x = torch.clamp(x, x_lower, x_upper)\n",
    "        if torch.norm(x - x_old) < tol:\n",
    "            return x\n",
    "    return x\n",
    "\n",
    "\n",
    "def MMA(func, x_k, L_k, U_k):\n",
    "    x_lin = x_k.clone().requires_grad_()\n",
    "    grads = torch.autograd.grad(func(x_lin), x_lin)[0]\n",
    "    pg = grads >= 0.0\n",
    "    ng = grads < 0.0\n",
    "    f_k = func(x_k)\n",
    "\n",
    "    def approximation(x):\n",
    "        p = torch.zeros_like(grads)\n",
    "        p[pg] = (U_k[pg] - x_k[pg]) ** 2 * grads[pg]\n",
    "        q = torch.zeros_like(grads)\n",
    "        q[ng] = -((x_k[ng] - L_k[ng]) ** 2) * grads[ng]\n",
    "        return (\n",
    "            f_k\n",
    "            - torch.sum(p / (U_k - x_k) + q / (x_k - L_k))\n",
    "            + torch.sum(p / (U_k - x) + q / (x - L_k))\n",
    "        )\n",
    "\n",
    "    return approximation, grads"
   ]
  },
  {
   "cell_type": "markdown",
   "metadata": {},
   "source": [
    "## Initial parameters and ranges"
   ]
  },
  {
   "cell_type": "code",
   "execution_count": 5,
   "metadata": {},
   "outputs": [],
   "source": [
    "# Mask for design variables.\n",
    "mask = torch.zeros_like(nodes, dtype=torch.bool)\n",
    "mask[A : 2 * A, 1] = True\n",
    "\n",
    "# Limits on design variables\n",
    "x_0 = nodes[mask].ravel()\n",
    "x_min = x_0 - 0.4\n",
    "x_max = x_0 + 0.5\n",
    "\n",
    "# Compute current volume\n",
    "l = compute_lengths(bridge)\n",
    "V0 = torch.inner(bridge.areas, l)"
   ]
  },
  {
   "attachments": {},
   "cell_type": "markdown",
   "metadata": {},
   "source": [
    "## Optimization\n",
    "\n",
    "We will optimize the shape of the truss by minimizing the compliance of the bridge by adjusting the top nodes while keeping the volume constant: \n",
    "\n",
    "$$\n",
    "\\min_{\\mathbf{x}} \\quad C(\\mathbf{x}) = \\mathbf{f} \\cdot \\mathbf{u}(\\mathbf{x}) \\\\\n",
    "\\text{s.t.} \\quad \\mathbf{a} \\cdot \\mathbf{l}(\\mathbf{x}) - V_0 \\le 0\\\\\n",
    "\\quad \\quad x \\in [\\mathbf{x}^{-}, \\mathbf{x}^{+}]\n",
    "$$"
   ]
  },
  {
   "cell_type": "code",
   "execution_count": 6,
   "metadata": {},
   "outputs": [],
   "source": [
    "def f(x):\n",
    "    # Update nodes\n",
    "    bridge.nodes[mask] = x\n",
    "    # Solve truss with updated nodes\n",
    "    u_k, f_k, _, _, _ = bridge.solve()\n",
    "    # Return compliance\n",
    "    return torch.inner(f_k.ravel(), u_k.ravel())"
   ]
  },
  {
   "cell_type": "code",
   "execution_count": 7,
   "metadata": {},
   "outputs": [],
   "source": [
    "def g(x):\n",
    "    # Update nodes\n",
    "    bridge.nodes[mask] = x\n",
    "    # Return constraint function\n",
    "    return torch.inner(bridge.areas, compute_lengths(bridge)) - V0"
   ]
  },
  {
   "cell_type": "code",
   "execution_count": 8,
   "metadata": {},
   "outputs": [],
   "source": [
    "s = 0.7\n",
    "\n",
    "# Set up lists for L, U, x\n",
    "L = []\n",
    "U = []\n",
    "x = [x_0]\n",
    "\n",
    "# Define the initial value, lower bound, and upper bound of \"mu\"\n",
    "mu_0 = torch.tensor([0.01])\n",
    "mu_lower = torch.tensor([1e-10])\n",
    "\n",
    "for k in range(50):\n",
    "    # Update asymptotes with heuristic procedure (see Exercise 04)\n",
    "    if k <= 1:\n",
    "        L.append(x[k] - s * (x_max - x_min))\n",
    "        U.append(x[k] + s * (x_max - x_min))\n",
    "    else:\n",
    "        L_k = torch.zeros_like(L[k - 1])\n",
    "        U_k = torch.zeros_like(U[k - 1])\n",
    "        # Shrink all oscillating asymptotes\n",
    "        osci = (x[k] - x[k - 1]) * (x[k - 1] - x[k - 2]) < 0.0\n",
    "        L_k[osci] = x[k][osci] - s * (x[k - 1][osci] - L[k - 1][osci])\n",
    "        U_k[osci] = x[k][osci] + s * (U[k - 1][osci] - x[k - 1][osci])\n",
    "        # Expand all non-oscillating asymptotes\n",
    "        L_k[~osci] = x[k][~osci] - 1 / sqrt(s) * (x[k - 1][~osci] - L[k - 1][~osci])\n",
    "        U_k[~osci] = x[k][~osci] + 1 / sqrt(s) * (U[k - 1][~osci] - x[k - 1][~osci])\n",
    "        L.append(L_k)\n",
    "        U.append(U_k)\n",
    "\n",
    "    # Compute lower and upper move limit in this step\n",
    "    x_min_k = torch.max(x_min, 0.9 * L[k] + 0.1 * x[k])\n",
    "    x_max_k = torch.min(x_max, 0.9 * U[k] + 0.1 * x[k])\n",
    "\n",
    "    # Compute the current approximation function and save gradients\n",
    "    f_tilde, f_grad = MMA(f, x[k], L[k], U[k])\n",
    "    g_tilde, g_grad = MMA(g, x[k], L[k], U[k])\n",
    "\n",
    "    # Define the Lagrangian\n",
    "    def lagrangian(x, mu):\n",
    "        return f_tilde(x) + mu * g_tilde(x)\n",
    "\n",
    "    # Define x_star by minimizing the Lagrangian w. r. t. x analytically\n",
    "    def x_star(mu):\n",
    "        x_hat = torch.zeros_like(f_grad)\n",
    "        # Case 1\n",
    "        cond1 = (f_grad > 0.0) & (g_grad > 0.0)\n",
    "        x_hat[cond1] = x_min[cond1]\n",
    "        # Case 2\n",
    "        cond2 = (f_grad < 0.0) & (g_grad < 0.0)\n",
    "        x_hat[cond2] = x_max[cond2]\n",
    "        # Case 3\n",
    "        cond3 = (f_grad > 0.0) & (g_grad < 0.0)\n",
    "        roots = torch.sqrt(\n",
    "            (-mu * g_grad[cond3] * (x[k][cond3] - L[k][cond3]) ** 2)\n",
    "            / (U[k][cond3] - x[k][cond3]) ** 2\n",
    "            / f_grad[cond3]\n",
    "        )\n",
    "        x_hat[cond3] = (U[k][cond3] * roots + L[k][cond3]) / (1 + roots)\n",
    "        # Case 4\n",
    "        cond4 = (f_grad < 0.0) & (g_grad > 0.0)\n",
    "        roots = torch.sqrt(\n",
    "            (-mu * g_grad[cond4] * (U[k][cond4] - x[k][cond4]) ** 2)\n",
    "            / (x[k][cond4] - L[k][cond4]) ** 2\n",
    "            / f_grad[cond4]\n",
    "        )\n",
    "        x_hat[cond4] = (U[k][cond4] + L[k][cond4] * roots) / (1 + roots)\n",
    "        return torch.clamp(x_hat, x_min_k, x_max_k)\n",
    "\n",
    "    # Define (-1 times) the dual function\n",
    "    def dual_function(mu):\n",
    "        return -lagrangian(x_star(mu), mu)\n",
    "\n",
    "    # Compute the maximum of the dual function\n",
    "    mu_star = box_constrained_decent(dual_function, mu_0, mu_lower)\n",
    "\n",
    "    # Compute current optimal point with dual solution\n",
    "    x.append(x_star(mu_star).detach())"
   ]
  },
  {
   "cell_type": "code",
   "execution_count": 9,
   "metadata": {},
   "outputs": [
    {
     "data": {
      "image/png": "[encoded data removed]",
      "text/plain": [
       "<Figure size 640x480 with 1 Axes>"
      ]
     },
     "metadata": {},
     "output_type": "display_data"
    }
   ],
   "source": [
    "# Plot the optimized bridge\n",
    "bridge.plot(node_labels=False)"
   ]
  }
 ],
 "metadata": {
  "kernelspec": {
   "display_name": "torchfem",
   "language": "python",
   "name": "python3"
  },
  "language_info": {
   "codemirror_mode": {
    "name": "ipython",
    "version": 3
   },
   "file_extension": ".py",
   "mimetype": "text/x-python",
   "name": "python",
   "nbconvert_exporter": "python",
   "pygments_lexer": "ipython3",
   "version": "3.10.13"
  }
 },
 "nbformat": 4,
 "nbformat_minor": 4
}
